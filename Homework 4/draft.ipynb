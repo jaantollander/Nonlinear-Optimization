{
 "cells": [
  {
   "cell_type": "code",
   "execution_count": null,
   "metadata": {},
   "outputs": [],
   "source": [
    "from sympy import *"
   ]
  },
  {
   "cell_type": "code",
   "execution_count": null,
   "metadata": {},
   "outputs": [],
   "source": [
    "init_printing(\"mathjax\")"
   ]
  },
  {
   "cell_type": "code",
   "execution_count": null,
   "metadata": {},
   "outputs": [],
   "source": [
    "x = symbols(\"x_0:3\", real=True)"
   ]
  },
  {
   "cell_type": "code",
   "execution_count": null,
   "metadata": {},
   "outputs": [],
   "source": [
    "def gradient(f, syms):\n",
    "    return Matrix([diff(f, sym) for sym in syms])"
   ]
  },
  {
   "cell_type": "code",
   "execution_count": null,
   "metadata": {},
   "outputs": [],
   "source": [
    "# u = symbols(\"u_0:5\", real=True, positive=True)\n",
    "u = symbols(\"u_0:5\", real=True)"
   ]
  },
  {
   "cell_type": "markdown",
   "metadata": {},
   "source": [
    "# Homework 4.1"
   ]
  },
  {
   "cell_type": "code",
   "execution_count": null,
   "metadata": {},
   "outputs": [],
   "source": [
    "f = -x[1]\n",
    "g1 = x[2] - (1-x[1])**3\n",
    "g2 = -x[1]\n",
    "g3 = -x[2]"
   ]
  },
  {
   "cell_type": "code",
   "execution_count": null,
   "metadata": {},
   "outputs": [],
   "source": [
    "(gradient(f, x[1:3]),\n",
    "gradient(g1, x[1:3]).subs(x[1], 1),\n",
    "gradient(g2, x[1:3]),\n",
    "gradient(g3, x[1:3]))"
   ]
  },
  {
   "cell_type": "markdown",
   "metadata": {},
   "source": [
    "# Homework 4.2"
   ]
  },
  {
   "cell_type": "code",
   "execution_count": null,
   "metadata": {},
   "outputs": [],
   "source": [
    "f = (x[1]-S(9)/4)**2 + (x[2]-2)**2\n",
    "g1 = x[1]**2 - x[2]\n",
    "g2 = x[1] - x[2] - 6\n",
    "g3 = -x[1]\n",
    "g4 = -x[2]"
   ]
  },
  {
   "cell_type": "code",
   "execution_count": null,
   "metadata": {},
   "outputs": [],
   "source": [
    "x_opt = {x[1]: S(3)/2, x[2]: S(9)/4}"
   ]
  },
  {
   "cell_type": "code",
   "execution_count": null,
   "metadata": {},
   "outputs": [],
   "source": [
    "x_opt"
   ]
  },
  {
   "cell_type": "code",
   "execution_count": null,
   "metadata": {},
   "outputs": [],
   "source": [
    "(gradient(f, x[1:3]).subs(x_opt),\n",
    "gradient(g1, x[1:3]).subs(x_opt),\n",
    "gradient(g2, x[1:3]),\n",
    "gradient(g3, x[1:3]),\n",
    "gradient(g4, x[1:3]))"
   ]
  },
  {
   "cell_type": "code",
   "execution_count": null,
   "metadata": {},
   "outputs": [],
   "source": [
    "Eq((gradient(f, x[1:3]).subs(x_opt) + \n",
    " u[1]*gradient(g1, x[1:3]).subs(x_opt) +\n",
    " u[2]*gradient(g2, x[1:3]) +\n",
    " u[3]*gradient(g3, x[1:3]) +\n",
    " u[4]*gradient(g4, x[1:3])), \n",
    " Matrix([0, 0]))"
   ]
  },
  {
   "cell_type": "code",
   "execution_count": null,
   "metadata": {},
   "outputs": [],
   "source": [
    "solve([Eq(3*u[1]+ u[2]-S(3)/2), Eq(u[1]+u[2]-S(1)/2)])"
   ]
  }
 ],
 "metadata": {
  "kernelspec": {
   "display_name": "Python 3",
   "language": "python",
   "name": "python3"
  },
  "language_info": {
   "codemirror_mode": {
    "name": "ipython",
    "version": 3
   },
   "file_extension": ".py",
   "mimetype": "text/x-python",
   "name": "python",
   "nbconvert_exporter": "python",
   "pygments_lexer": "ipython3",
   "version": "3.7.3"
  }
 },
 "nbformat": 4,
 "nbformat_minor": 2
}
