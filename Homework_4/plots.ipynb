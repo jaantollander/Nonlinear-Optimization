{
 "cells": [
  {
   "cell_type": "code",
   "execution_count": null,
   "metadata": {},
   "outputs": [],
   "source": [
    "using Plots"
   ]
  },
  {
   "cell_type": "code",
   "execution_count": null,
   "metadata": {},
   "outputs": [],
   "source": [
    "using LaTeXStrings"
   ]
  },
  {
   "cell_type": "code",
   "execution_count": null,
   "metadata": {},
   "outputs": [],
   "source": [
    "if !ispath(\"figures\")\n",
    "    mkdir(\"figures\") \n",
    "end"
   ]
  },
  {
   "cell_type": "markdown",
   "metadata": {},
   "source": [
    "# Homework 4.1"
   ]
  },
  {
   "cell_type": "code",
   "execution_count": null,
   "metadata": {},
   "outputs": [],
   "source": [
    "x1 = 0:0.01:1.1\n",
    "x2 = 0:0.01:1\n",
    "plot(x1, x2, (x1, x2) -> -x1, st = :contour, levels = 0:-0.1:-1, \n",
    "    xlabel = L\"x_1\", ylabel = L\"x_2\", contour_labels = true)\n",
    "plot!(x1, (1 .- x1).^3, label = \"(2)\")\n",
    "plot!(x1, zeros(length(x1)), label = \"(3)\")\n",
    "plot!(zeros(length(x2)), x2, label = \"(4)\")\n",
    "plot!([1], [0], label = L\"\\bar{x}\", markershape = :circle, linewidth = 0)"
   ]
  },
  {
   "cell_type": "code",
   "execution_count": null,
   "metadata": {},
   "outputs": [],
   "source": [
    "savefig(\"figures/4.1.svg\")"
   ]
  },
  {
   "cell_type": "markdown",
   "metadata": {},
   "source": [
    "# Homework 4.2"
   ]
  },
  {
   "cell_type": "code",
   "execution_count": null,
   "metadata": {},
   "outputs": [],
   "source": [
    "x1 = 0:0.01:2\n",
    "x2 = 0:0.01:6\n",
    "plot(x1, x2, (x1, x2) -> (x1 - 9/4)^2 + (x2 - 2)^2, st = :contour,\n",
    "    xlabel = L\"x_1\", ylabel = L\"x_2\", contour_labels = true)\n",
    "plot!(x1, x1 .^ 2, label = \"(6)\")\n",
    "plot!(x1, 6 .- x1, label = \"(7)\")\n",
    "plot!(x1, zeros(length(x1)), label = \"(8)\")\n",
    "plot!(zeros(length(x2)), x2, label = \"(9)\")\n",
    "# Optimal point\n",
    "plot!([3/2], [9/4], label = L\"\\bar{x}\", markershape = :circle, linewidth = 0)\n",
    "# KKT\n",
    "d1 = hypot(3, -1)\n",
    "plot!([3/2, 3/2+3/d1], [9/4, 9/4-1/d1], label = L\"\\nabla g_1\")\n",
    "d2 = hypot(1, -1)\n",
    "plot!([3/2, 3/2+1/d2], [9/4, 9/4-1/d2], label = L\"\\nabla g_2\")\n",
    "d3 = hypot(-3/2, 1/2)\n",
    "plot!([3/2, 3/2-0.5*(-3/2)/d3], [9/4, 9/4-0.5*1/2/d3], label = L\"-\\nabla f\")"
   ]
  },
  {
   "cell_type": "code",
   "execution_count": null,
   "metadata": {},
   "outputs": [],
   "source": [
    "savefig(\"figures/4.2.svg\")"
   ]
  }
 ],
 "metadata": {
  "kernelspec": {
   "display_name": "Julia 1.1.1",
   "language": "julia",
   "name": "julia-1.1"
  },
  "language_info": {
   "file_extension": ".jl",
   "mimetype": "application/julia",
   "name": "julia",
   "version": "1.1.1"
  }
 },
 "nbformat": 4,
 "nbformat_minor": 2
}
