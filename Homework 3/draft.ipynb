{
 "cells": [
  {
   "cell_type": "code",
   "execution_count": 1,
   "metadata": {},
   "outputs": [],
   "source": [
    "from sympy import *"
   ]
  },
  {
   "cell_type": "code",
   "execution_count": 16,
   "metadata": {},
   "outputs": [],
   "source": [
    "init_printing(\"mathjax\")"
   ]
  },
  {
   "cell_type": "code",
   "execution_count": 17,
   "metadata": {},
   "outputs": [],
   "source": [
    "x = symbols(\"x_0:3\", real=True)"
   ]
  },
  {
   "cell_type": "code",
   "execution_count": 18,
   "metadata": {},
   "outputs": [
    {
     "data": {
      "image/png": "[encoded data removed]",
      "text/latex": [
       "$\\displaystyle \\left( x_{0}, \\  x_{1}, \\  x_{2}\\right)$"
      ],
      "text/plain": [
       "(x₀, x₁, x₂)"
      ]
     },
     "execution_count": 18,
     "metadata": {},
     "output_type": "execute_result"
    }
   ],
   "source": [
    "x"
   ]
  },
  {
   "cell_type": "code",
   "execution_count": 19,
   "metadata": {},
   "outputs": [],
   "source": [
    "f = x[1]**3 - x[1] + x[2]**3 - x[2]"
   ]
  },
  {
   "cell_type": "code",
   "execution_count": 20,
   "metadata": {},
   "outputs": [
    {
     "data": {
      "image/png": "[encoded data removed]",
      "text/latex": [
       "$\\displaystyle x_{1}^{3} - x_{1} + x_{2}^{3} - x_{2}$"
      ],
      "text/plain": [
       "  3          3     \n",
       "x₁  - x₁ + x₂  - x₂"
      ]
     },
     "execution_count": 20,
     "metadata": {},
     "output_type": "execute_result"
    }
   ],
   "source": [
    "f"
   ]
  },
  {
   "cell_type": "code",
   "execution_count": 35,
   "metadata": {},
   "outputs": [
    {
     "data": {
      "image/png": "[encoded data removed]",
      "text/latex": [
       "$\\displaystyle \\left[\\begin{matrix}3 x_{1}^{2} - 1\\\\3 x_{2}^{2} - 1\\end{matrix}\\right]$"
      ],
      "text/plain": [
       "⎡    2    ⎤\n",
       "⎢3⋅x₁  - 1⎥\n",
       "⎢         ⎥\n",
       "⎢    2    ⎥\n",
       "⎣3⋅x₂  - 1⎦"
      ]
     },
     "execution_count": 35,
     "metadata": {},
     "output_type": "execute_result"
    }
   ],
   "source": [
    "grad = Matrix([diff(f, sym) for sym in x[1:3]])\n",
    "grad"
   ]
  },
  {
   "cell_type": "code",
   "execution_count": 42,
   "metadata": {},
   "outputs": [
    {
     "data": {
      "image/png": "[encoded data removed]",
      "text/latex": [
       "$\\displaystyle \\left[\\begin{matrix}3 x_{1}^{2} - 1\\\\3 x_{2}^{2} - 1\\end{matrix}\\right] = \\left[\\begin{matrix}0\\\\0\\end{matrix}\\right]$"
      ],
      "text/plain": [
       "⎡    2    ⎤      \n",
       "⎢3⋅x₁  - 1⎥   ⎡0⎤\n",
       "⎢         ⎥ = ⎢ ⎥\n",
       "⎢    2    ⎥   ⎣0⎦\n",
       "⎣3⋅x₂  - 1⎦      "
      ]
     },
     "execution_count": 42,
     "metadata": {},
     "output_type": "execute_result"
    }
   ],
   "source": [
    "Eq(grad, Matrix([0, 0]))"
   ]
  },
  {
   "cell_type": "code",
   "execution_count": 43,
   "metadata": {
    "scrolled": true
   },
   "outputs": [
    {
     "data": {
      "image/png": "[encoded data removed]",
      "text/latex": [
       "$\\displaystyle \\left[ \\left\\{ x_{1} : - \\frac{\\sqrt{3}}{3}, \\  x_{2} : - \\frac{\\sqrt{3}}{3}\\right\\}, \\  \\left\\{ x_{1} : - \\frac{\\sqrt{3}}{3}, \\  x_{2} : \\frac{\\sqrt{3}}{3}\\right\\}, \\  \\left\\{ x_{1} : \\frac{\\sqrt{3}}{3}, \\  x_{2} : - \\frac{\\sqrt{3}}{3}\\right\\}, \\  \\left\\{ x_{1} : \\frac{\\sqrt{3}}{3}, \\  x_{2} : \\frac{\\sqrt{3}}{3}\\right\\}\\right]$"
      ],
      "text/plain": [
       "⎡⎧    -√3       -√3 ⎫  ⎧    -√3       √3⎫  ⎧    √3      -√3 ⎫  ⎧    √3      √3\n",
       "⎢⎨x₁: ────, x₂: ────⎬, ⎨x₁: ────, x₂: ──⎬, ⎨x₁: ──, x₂: ────⎬, ⎨x₁: ──, x₂: ──\n",
       "⎣⎩     3         3  ⎭  ⎩     3        3 ⎭  ⎩    3        3  ⎭  ⎩    3       3 \n",
       "\n",
       "⎫⎤\n",
       "⎬⎥\n",
       "⎭⎦"
      ]
     },
     "execution_count": 43,
     "metadata": {},
     "output_type": "execute_result"
    }
   ],
   "source": [
    "crit = solve(_)\n",
    "crit"
   ]
  },
  {
   "cell_type": "code",
   "execution_count": 39,
   "metadata": {},
   "outputs": [
    {
     "data": {
      "image/png": "[encoded data removed]",
      "text/latex": [
       "$\\displaystyle \\left[\\begin{matrix}6 x_{1} & 0\\\\0 & 6 x_{2}\\end{matrix}\\right]$"
      ],
      "text/plain": [
       "⎡6⋅x₁   0  ⎤\n",
       "⎢          ⎥\n",
       "⎣ 0    6⋅x₂⎦"
      ]
     },
     "execution_count": 39,
     "metadata": {},
     "output_type": "execute_result"
    }
   ],
   "source": [
    "hess = Matrix([[diff(diff(f, sym1), sym2) for sym1 in x[1:3]] for sym2 in x[1:3]])\n",
    "hess"
   ]
  },
  {
   "cell_type": "code",
   "execution_count": 45,
   "metadata": {},
   "outputs": [
    {
     "data": {
      "image/png": "[encoded data removed]",
      "text/latex": [
       "$\\displaystyle \\left[ \\left[\\begin{matrix}- 2 \\sqrt{3} & 0\\\\0 & - 2 \\sqrt{3}\\end{matrix}\\right], \\  \\left[\\begin{matrix}- 2 \\sqrt{3} & 0\\\\0 & 2 \\sqrt{3}\\end{matrix}\\right], \\  \\left[\\begin{matrix}2 \\sqrt{3} & 0\\\\0 & - 2 \\sqrt{3}\\end{matrix}\\right], \\  \\left[\\begin{matrix}2 \\sqrt{3} & 0\\\\0 & 2 \\sqrt{3}\\end{matrix}\\right]\\right]$"
      ],
      "text/plain": [
       "⎡⎡-2⋅√3    0  ⎤  ⎡-2⋅√3   0  ⎤  ⎡2⋅√3    0  ⎤  ⎡2⋅√3   0  ⎤⎤\n",
       "⎢⎢            ⎥, ⎢           ⎥, ⎢           ⎥, ⎢          ⎥⎥\n",
       "⎣⎣  0    -2⋅√3⎦  ⎣  0    2⋅√3⎦  ⎣ 0    -2⋅√3⎦  ⎣ 0    2⋅√3⎦⎦"
      ]
     },
     "execution_count": 45,
     "metadata": {},
     "output_type": "execute_result"
    }
   ],
   "source": [
    "hess_values = [hess.subs(v) for v in crit]\n",
    "hess_values"
   ]
  },
  {
   "cell_type": "code",
   "execution_count": null,
   "metadata": {},
   "outputs": [],
   "source": []
  }
 ],
 "metadata": {
  "kernelspec": {
   "display_name": "Python 3",
   "language": "python",
   "name": "python3"
  },
  "language_info": {
   "codemirror_mode": {
    "name": "ipython",
    "version": 3
   },
   "file_extension": ".py",
   "mimetype": "text/x-python",
   "name": "python",
   "nbconvert_exporter": "python",
   "pygments_lexer": "ipython3",
   "version": "3.7.3"
  }
 },
 "nbformat": 4,
 "nbformat_minor": 2
}
