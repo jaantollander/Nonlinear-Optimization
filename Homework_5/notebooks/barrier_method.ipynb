{
 "cells": [
  {
   "cell_type": "code",
   "execution_count": 8,
   "metadata": {},
   "outputs": [],
   "source": [
    "using  Plots\n",
    "pyplot();\n",
    "\n",
    "using ForwardDiff, LinearAlgebra"
   ]
  },
  {
   "cell_type": "code",
   "execution_count": 5,
   "metadata": {},
   "outputs": [],
   "source": [
    "# Line search\n",
    "function bisection(f,a,b)\n",
    "    l = 1e-12\n",
    "    bᵢ = b\n",
    "    aᵢ = a\n",
    "    λ = 0\n",
    "    while bᵢ - aᵢ > l\n",
    "        λ = (aᵢ + bᵢ)/2\n",
    "        ∇f= ForwardDiff.derivative(f,λ)\n",
    "        if abs(∇f) < l # equivalent to ∇f = 0\n",
    "            return λ\n",
    "        elseif ∇f > 0  # left move\n",
    "            aᵢ₊₁ = aᵢ\n",
    "            bᵢ₊₁ = λ\n",
    "        else           # move right\n",
    "            aᵢ₊₁ = λ\n",
    "            bᵢ₊₁ = bᵢ\n",
    "        end\n",
    "        aᵢ = aᵢ₊₁\n",
    "        bᵢ = bᵢ₊₁\n",
    "    end\n",
    "        return λ\n",
    "end;\n",
    "\n",
    "function newton(f, x, N = 1000; ϵ = 1e-6, λ = 1.0, a = 0.0, b = 2.0)\n",
    "    tini = time()                  # Start timer\n",
    "    ∇(f, x)  = ForwardDiff.gradient(f, x)\n",
    "    H(f, x) = ForwardDiff.hessian(f, x)\n",
    "\n",
    "    for i = 1:N\n",
    "        ∇fᵢ = ∇(f, x)               # Gradient\n",
    "        if norm(∇fᵢ) < ϵ            # Stopping condition #1\n",
    "            tend = time() - tini    # Computation time\n",
    "            return x, f(x), tend, i # Return cost, time, iterations\n",
    "        end\n",
    "        d = -H(f, x)\\∇fᵢ            # Newton direction\n",
    "        ls(λ) = f(x + λ*d)          # Line search via bisection\n",
    "        λ = bisection(ls,a,b)\n",
    "        x = x + λ*d                 # Move to a new point\n",
    "    end\n",
    "    tend = time() - tini            # Computation time\n",
    "    return x, f(x), tend, N         # Return x, f(x), time, iterations\n",
    "end;"
   ]
  },
  {
   "cell_type": "code",
   "execution_count": 9,
   "metadata": {},
   "outputs": [
    {
     "data": {
      "text/plain": [
       "barrier_method (generic function with 1 method)"
      ]
     },
     "execution_count": 9,
     "metadata": {},
     "output_type": "execute_result"
    }
   ],
   "source": [
    "# We will consider this problem\n",
    "f(x) = (x[1]-2)^4 + (x[1]-2x[2])^2   # min f(x)\n",
    "g(x) = x[1]^2 - x[2]                  # g(x) ≦ 0\n",
    "\n",
    "# Penalty function\n",
    "B(x) = -1/g(x)\n",
    "\n",
    "# Initial parameters\n",
    "μ = 10          # penalty term. Try different values\n",
    "β = 0.2         # amount of reduction in penalty\n",
    "ϵ = 1e-7        # tolerance\n",
    "x₀ = [0.5,1]  # initial feasible point\n",
    "\n",
    "# Method of multipliers implementation\n",
    "function barrier_method(μ, f, B, x₀, β, ϵ)\n",
    "        xᵏ =  x₀\n",
    "        traj = zeros(2,50)\n",
    "        traj[:,1] = x₀\n",
    "        k = 2\n",
    "        println(\"\\nStarting barrier method...\")\n",
    "        while (abs(μ*B(xᵏ)) > ϵ)\n",
    "            F(x) = f(x) + μ*B(x)    # barrier problem\n",
    "            xᵏ,⋅,⋅,⋅ = newton(F,xᵏ) # solver barrier prob. with Newton's\n",
    "            traj[:,k] = xᵏ          # record trajectory for plotting\n",
    "            println(\"Current point: \", xᵏ, \"/ Objective : \", f(xᵏ))\n",
    "            μ = β*μ                # update μ\n",
    "            k = k+1\n",
    "        end\n",
    "        traj = traj[:,1:k-1]\n",
    "        return traj\n",
    "end"
   ]
  },
  {
   "cell_type": "code",
   "execution_count": 10,
   "metadata": {},
   "outputs": [
    {
     "name": "stdout",
     "output_type": "stream",
     "text": [
      "\n",
      "Starting barrier method...\n",
      "1.3333333333333333\n",
      "Current point: [0.707944, 1.5315]/ Objective : 8.333201262357004\n",
      "0.9705779768116337\n",
      "Current point: [0.796733, 1.19499]/ Objective : 4.634681146202505\n",
      "1.785070333784634\n",
      "Current point: [0.862407, 1.03218]/ Objective : 3.1194568484593184\n",
      "3.466933481265405\n",
      "Current point: [0.903224, 0.956543]/ Objective : 2.466831025134442\n",
      "7.1058475981591975\n",
      "Current point: [0.925305, 0.922163]/ Objective : 2.1785519926323866\n",
      "15.157676912813807\n",
      "Current point: [1.9293, 0.964703]/ Objective : 2.499374279955946e-5\n",
      "-0.36264717024584586\n",
      "Current point: [1.95941, 0.979713]/ Objective : 2.7159695116509338e-6\n",
      "-0.3497044206595875\n",
      "Current point: [1.9765, 0.988253]/ Objective : 3.048831198001497e-7\n",
      "-0.34266433917389405\n",
      "Current point: [1.98634, 0.99317]/ Objective : 3.483454452538287e-8\n",
      "-0.338710847891267\n",
      "Current point: [1.99204, 0.996019]/ Objective : 4.019693030077436e-9\n",
      "-0.33645171436763155\n",
      "Current point: [1.99535, 0.997677]/ Objective : 4.658480177675153e-10\n"
     ]
    },
    {
     "data": {
      "text/plain": [
       "2×12 Array{Float64,2}:\n",
       " 0.5  0.707944  0.796733  0.862407  0.903224  …  1.98634  1.99204   1.99535 \n",
       " 1.0  1.5315    1.19499   1.03218   0.956543     0.99317  0.996019  0.997677"
      ]
     },
     "execution_count": 10,
     "metadata": {},
     "output_type": "execute_result"
    }
   ],
   "source": [
    "traj = barrier_method(μ, f, B, x₀, β, ϵ)"
   ]
  },
  {
   "cell_type": "code",
   "execution_count": null,
   "metadata": {},
   "outputs": [],
   "source": [
    "# Plotting the contours of the function optimised and the trajectory\n",
    "n = 5000\n",
    "x = range(-200,stop=200,length=n);\n",
    "y = range(-200,stop=200,length=n);\n",
    "z = [f([x[i],y[j]]) for j = 1:n, i = 1:n];\n",
    "\n",
    "# Plot function contours\n",
    "contour(x,y,z, # Change title accordingly\n",
    "        levels = [0.25, 1, 2.5 , 5, 9],\n",
    "        xaxis = (\"x₁\", (0,2)),\n",
    "        yaxis = (\"x₂\", (0,2)),\n",
    "        clims = (0,12),\n",
    "        #clabels = true,\n",
    "        legend = false,\n",
    "        aspect_ratio = :equal)\n",
    "\n",
    "# Plot feasible region\n",
    "plot!(x, x.^2,\n",
    "        #fill= (10,0.1),\n",
    "        color = 1)\n",
    "annotate!([(0.25, 1.75, text(\"x₁² - x₂ ≤ 0\",9,:left,\n",
    "                RGBA(0.0,0.605603,0.97868,1.0)))])\n",
    "\n",
    "# Plot trajectory\n",
    "plot!(traj[1,:], traj[2,:], marker=:o)\n",
    "annotate!([(0.5, 0.9, text(\"x₀\",9,:left,\n",
    "                RGBA(0.2422242978521988,0.6432750931576304,0.30444865153411527,1.0) ))])"
   ]
  },
  {
   "cell_type": "code",
   "execution_count": null,
   "metadata": {},
   "outputs": [],
   "source": []
  }
 ],
 "metadata": {
  "kernelspec": {
   "display_name": "Julia 1.1.0",
   "language": "julia",
   "name": "julia-1.1"
  },
  "language_info": {
   "file_extension": ".jl",
   "mimetype": "application/julia",
   "name": "julia",
   "version": "1.1.0"
  }
 },
 "nbformat": 4,
 "nbformat_minor": 4
}
