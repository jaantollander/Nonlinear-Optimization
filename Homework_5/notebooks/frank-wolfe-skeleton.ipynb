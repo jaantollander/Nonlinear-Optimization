{
 "cells": [
  {
   "cell_type": "code",
   "execution_count": null,
   "metadata": {},
   "outputs": [],
   "source": [
    "using JuMP\n",
    "using Ipopt\n",
    "using Random\n",
    "using LinearAlgebra\n",
    "using ForwardDiff\n",
    "\n",
    "∇(f, x) = ForwardDiff.gradient(f, x)\n",
    "D(θ, λ) = ForwardDiff.derivative(θ, λ)"
   ]
  },
  {
   "cell_type": "code",
   "execution_count": null,
   "metadata": {},
   "outputs": [],
   "source": [
    "function Armijo_ls(θ, λ, α, β, λbar) \n",
    "    θ₀  = θ(0)                                 # Function value at zero\n",
    "    Dθ₀ = D(θ, 0)                              # Derivative (slope) at zero   \n",
    "    while (θ(λ) > θ₀ + α*λ*Dθ₀) && (λ <= λbar) # Check termination condition\n",
    "        λ = β*λ                                # Reduce λ until condition is satisfied\n",
    "    end\n",
    "    return λ\n",
    "end"
   ]
  },
  {
   "cell_type": "code",
   "execution_count": null,
   "metadata": {},
   "outputs": [],
   "source": [
    "function FW()\n",
    "    \n",
    "    Random.seed!(1)\n",
    "    \n",
    "    ## Generate random data\n",
    "    M   = 1000\n",
    "    N   = 100\n",
    "    A   = rand(M,N)\n",
    "    b   = rand(M)\n",
    "    \n",
    "    ## Constants\n",
    "    c    = 1.0            # RHS of the constraint ||x||² ≤ c\n",
    "    λbar = 1.0            # Upper bound of λ in FW method\n",
    "    λ    = λbar           # Initial step size λ\n",
    "    eps  = 1e-10          # Convergence tolerance\n",
    "    \n",
    "    ## Armijo parameters\n",
    "    α   = 0.01\n",
    "    β   = 0.70\n",
    "    \n",
    "    ## Objective function to be minimized\n",
    "    f(x) = 0.5*dot(A*x - b, A*x - b)\n",
    "    \n",
    "    ## Initial values\n",
    "    xᵏ  = 0.1*ones(N)\n",
    "    \n",
    "    ## Compute x̄ᵏ from x̄ᵏ = argmin{x ∈ ℜⁿ : ∇f(xᵏ)ᵀx, x ∈ S}    \n",
    "    model = Model(with_optimizer(Ipopt.Optimizer, print_level = 1)) \n",
    "    @variable(model, x[1:N])\n",
    "    \n",
    "    #### TODO: Write the objective and constraints here\n",
    "    @objective(model, Min, dot(∇(f, xᵏ), x))\n",
    "    @constraint(model, dot(x, x,)≤c)\n",
    "\n",
    "    optimize!(model)\n",
    "    x̄ᵏ = value.(x)\n",
    "    dᵏ = x̄ᵏ - xᵏ \n",
    "    \n",
    "    ## Iteration counter + 1st solution\n",
    "    k   = 1\n",
    "    xᵏ  = xᵏ + λ*dᵏ  \n",
    "    \n",
    "    while dot(∇(f, xᵏ), dᵏ) > eps\n",
    "        \n",
    "        ## Compute x̄ᵏ from x̄ᵏ = argmin{x ∈ ℜⁿ : ∇f(xᵏ)ᵀx, x ∈ S}\n",
    "        model = Model(with_optimizer(Ipopt.Optimizer, print_level = 0)) \n",
    "        @variable(model, x[1:N])\n",
    "        \n",
    "        #### TODO: Write the objective and constraints here\n",
    "        @objective(model, Min, dot(∇(f, xᵏ), x))\n",
    "        @constraint(model, dot(x, x,)≤c)\n",
    "                \n",
    "        optimize!(model)\n",
    "        x̄ᵏ = value.(x)\n",
    "        dᵏ = x̄ᵏ - xᵏ\n",
    "\n",
    "        #### Line search\n",
    "        θ(λ) = f(xᵏ + λ*dᵏ)\n",
    "        λ    = Armijo_ls(θ, λ, α, β, λbar)\n",
    "        \n",
    "        #### Update solution\n",
    "        k  = k + 1\n",
    "        xᵏ = xᵏ + λ*dᵏ      \n",
    "    end\n",
    "    \n",
    "    ## Get optimal cost\n",
    "    obj = f(xᵏ)\n",
    "    return (k, xᵏ, obj)\n",
    "end"
   ]
  },
  {
   "cell_type": "code",
   "execution_count": null,
   "metadata": {},
   "outputs": [],
   "source": [
    "## Solve model\n",
    "(k, xsol, obj) = FW()\n",
    "\n",
    "## Print solution\n",
    "println(\"  Iterations: \", k)\n",
    "println(\"Optimal cost: \", round(obj, digits = 2))"
   ]
  },
  {
   "cell_type": "markdown",
   "metadata": {},
   "source": [
    "#### OPTIMAL COST SHOULD BE $\\approx 36.71$ \n",
    "#### WITH $k = 280$ ITERATIONS"
   ]
  }
 ],
 "metadata": {
  "kernelspec": {
   "display_name": "Julia 1.1.1",
   "language": "julia",
   "name": "julia-1.1"
  },
  "language_info": {
   "file_extension": ".jl",
   "mimetype": "application/julia",
   "name": "julia",
   "version": "1.1.1"
  }
 },
 "nbformat": 4,
 "nbformat_minor": 4
}
