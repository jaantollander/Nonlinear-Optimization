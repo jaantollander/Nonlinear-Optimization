{
 "cells": [
  {
   "cell_type": "markdown",
   "metadata": {},
   "source": [
    "# Deterministic Model\n",
    "\n",
    "Consider the following problem. One must make a selection of items $j \\in J = \\{1,\\dots,n\\}$ to compose a shipment of maximum value. Each item has an individual value of $c_j$, $j \\in J$, and an individual weight $a_j$. The total shipment weight cannot exceed $K$. \n",
    "\n",
    "This problem can be formulated as follows. Let $x_j$, $j \\in J$, be the fraction of item $j$ included in the shipment. Then, solving\n",
    "\\begin{align}\n",
    "\\max_x & \\sum_j{c_j x_j} \\label{E3:objective}\\\\\n",
    "\\text{s.t.: } & \\sum_j{a_j}x_j \\leq K \\label{E3:const1} \\\\\n",
    "    & 0 \\leq x_j \\leq 1, \\forall j \\in J  \\label{E3:const2}\n",
    "\\end{align}\n",
    "\n",
    "One can obtain an optimal shipment.\n"
   ]
  },
  {
   "cell_type": "code",
   "execution_count": 1,
   "metadata": {},
   "outputs": [
    {
     "name": "stdout",
     "output_type": "stream",
     "text": [
      "Optimal selection: [1.0, 0.0, 1.0, 0.0, 0.0, 0.0, 1.0, 0.0, 0.0, 0.0, 0.0, 0.0, 0.0, 0.0, 0.0, 0.0, 0.0, 1.0, 1.0, 1.0, 1.0, 0.0, 0.0, 1.0, 1.0, 0.962714, 1.0, 1.0, 1.0, 0.0, 0.0, 0.0, 1.0, 0.0, 0.0, 0.0, 0.0, 0.0, 1.0, 0.0, 0.0, 0.0, 0.0, 0.0, 1.0, 1.0, 0.0, 0.0, 1.0, 0.0],\n",
      "Optimal objective: 2326.8425233586972\n"
     ]
    }
   ],
   "source": [
    "using JuMP, Cbc, Distributions, Random\n",
    "\n",
    "## Setting initial data for weight a value c\n",
    "\n",
    "number_of_items = 50\n",
    "K = 500 \n",
    "a = [23.1677; 38.5411; 20.7857; 91.2639; 88.8531; 59.0021; 46.8458; 87.3085; 90.2029; 84.7892; 93.654; 80.5882; 77.2142; 61.1733; 95.2264; 70.4182; 62.9188; 58.2519; 28.6744; 12.1574; 38.8476; 73.4748; 75.6089; 26.9231; 13.0826; 68.9559; 43.7193; 20.9045; 11.5951; 73.6138; 99.5393; 72.4457; 16.1868; 69.4912; 80.5066; 35.586; 88.0705; 76.0882; 12.6545; 52.421; 66.697; 95.7174; 18.6815; 66.9619; 13.4973; 29.8649; 46.4196; 78.6803; 16.4566; 71.329]\n",
    "c = [111.425; 75.8917; 148.793; 99.3532; 180.952; 149.681; 140.894; 36.6643; 193.925; 15.198; 116.553; 34.165; 76.5255; 144.129; 89.4986; 105.582; 120.906; 173.364; 102.396; 111.247; 187.043; 61.9536; 155.218; 113.75; 81.4382; 196.099; 164.232; 127.833; 122.11; 94.9773; 159.716; 36.2398; 164.801; 122.474; 153.256; 20.0253; 97.1981; 72.6271; 80.9235; 38.7044; 149.701; 195.98; 48.4235; 66.7923; 78.5756; 128.656; 28.6767; 56.789; 100.574; 156.582]\n",
    "\n",
    "## Creating the problem instance\n",
    "deterministic_model = Model(with_optimizer(Cbc.Optimizer,logLevel = 0))\n",
    "\n",
    "## Declaring x variables\n",
    "@variable(deterministic_model, 0 <= x[1:number_of_items] <=1)\n",
    "\n",
    "## Including objective function\n",
    "@objective(deterministic_model, Max, sum(c .* x))\n",
    "\n",
    "## Including constraint\n",
    "@constraint(deterministic_model, sum(a .* x) <= K)\n",
    "\n",
    "## Solve the model\n",
    "optimize!(deterministic_model)\n",
    "\n",
    "## Printing out the solution\n",
    "x_value = value.(x)\n",
    "print(\"Optimal selection: $(x_value),\\nOptimal objective: $(objective_value(deterministic_model))\\n\")\n"
   ]
  },
  {
   "cell_type": "markdown",
   "metadata": {},
   "source": [
    "Suppose that the weights $a_j$ follow a Gaussian distribution with average $\\overline{a}_j$ and deviation $0.5\\overline{a}$. What happens if we simulate that selection? In other words, what are the chances that we end up having a total shipment weight that is actually exceeds the weight limit $K$? Using Monte Carlo simulation, we observe the following."
   ]
  },
  {
   "cell_type": "code",
   "execution_count": 2,
   "metadata": {},
   "outputs": [
    {
     "name": "stdout",
     "output_type": "stream",
     "text": [
      "Chance of feasibility.: 49.45 %\n"
     ]
    }
   ],
   "source": [
    "Random.seed!(0)\n",
    "number_of_simulations = 10000\n",
    "results_of_simulations = []\n",
    "\n",
    "for s in 1:number_of_simulations\n",
    "    a_simulated = [rand(Normal(a[j], 0.5*a[j]),1)[1] for j in 1:length(a)] #sampling 10000 elements for the current simulation\n",
    "    append!(results_of_simulations, (sum(a_simulated .* x_value) <= K) ? 1 : 0) #writing 1 to the resuting array if the constraint is still feasible and 0 if not \n",
    "end\n",
    "\n",
    "print(\"Chance of feasibility.: $(sum(results_of_simulations)*100/number_of_simulations) %\\n\")    \n"
   ]
  },
  {
   "cell_type": "markdown",
   "metadata": {},
   "source": [
    "# Robust Model\n",
    "\n",
    "Using the RO philosophy, let's assume that the weights vector $a$ is uncertain and take values in an interval which is defined as $e = \\{\\overline{a}  + Pu: {||u||}_2 \\leq {\\Gamma}_j \\}$. Let us set $\\overline{a} = a$ defined in determnistic example and $P = 0.1\\overline{a}$. It lead us to following Robust Counterpart\n",
    "\n",
    "\\begin{align}\n",
    "\\max_x &\\sum_j c_jx_j \\\\\n",
    "\\text{s.t.: } &\\sum_j \\left( a_jx_j \\right) + \\Gamma { \\left( \\sum_i { \\left( [0.1a_i]x_i \\right) }^2 \\right) }^{1/2}  \\leq K \\\\\n",
    "& 0 \\leq x_j \\leq 1, \\forall j \\in J \\\\\n",
    "\\end{align}\n",
    "\n",
    "which, once again, can be modelled as follows (note that we have embedded the model into a function so we can use in the following experiment)."
   ]
  },
  {
   "cell_type": "markdown",
   "metadata": {},
   "source": [
    "## (a)"
   ]
  },
  {
   "cell_type": "markdown",
   "metadata": {},
   "source": [
    "The new robust constraint can be derived as follows. Given the uncertainty set $\\epsilon = \\{\\overline{a}  + Pu: {\\|u\\|}_2 \\leq {\\Gamma}_j \\}$ where we'll denote $Pu=[\\beta a_j u_j]_{j\\in J}$ we have\n",
    "\n",
    "$$\n",
    "\\begin{aligned}\n",
    "\\max_{\\tilde{a}_j\\in \\epsilon} \\sum_j \\tilde{a}_j x_j \n",
    "&= \\max_u \\sum_j(a_j + u_j \\beta a_j) x_j \\\\\n",
    "&= \\sum_j a_j x_j + \\max_u \\sum_j u_j \\beta a_j x_j.\n",
    "\\end{aligned}\n",
    "$$\n",
    "\n",
    "We can write $\\sum_j u_j \\beta a_j x_j$ using dot product and rewrite the dot product using norms\n",
    "$$\n",
    "u \\cdot [\\beta a_j x_j]_j = \\|u\\| \\|[\\beta a_j x_j]_j\\| \\cos \\theta.\n",
    "$$\n",
    "Now deriving the maximum is simple\n",
    "$$\n",
    "\\Gamma \\|[\\beta a_j x_j]_j\\| = \\Gamma { \\left( \\sum_i { \\left( [\\beta a_i]x_i \\right) }^2 \\right) }^{1/2}.\n",
    "$$\n",
    "Now we have\n",
    "$$\n",
    "\\max_{\\tilde{a}_j\\in \\epsilon} \\sum_j \\tilde{a}_j x_j = \\sum_j a_j x_j + \\Gamma { \\left( \\sum_i { \\left( [\\beta a_i]x_i \\right) }^2 \\right) }^{1/2}.\n",
    "$$"
   ]
  },
  {
   "cell_type": "markdown",
   "metadata": {},
   "source": [
    "## (b)"
   ]
  },
  {
   "cell_type": "code",
   "execution_count": 10,
   "metadata": {},
   "outputs": [
    {
     "name": "stdout",
     "output_type": "stream",
     "text": [
      "Optimal selection: [1.0, 0.0, 1.0, 0.0, 0.0, 0.0731138, 0.555431, 0.0, 0.0, 0.0, 0.0, 0.0, 0.0, 0.0, 0.0, 0.0, 0.0, 0.421737, 1.0, 1.0, 1.0, 0.0, 0.0, 1.0, 1.0, 0.267819, 1.0, 1.0, 1.0, 0.0, 0.0, 0.0, 1.0, 0.0, 0.0, 0.0, 0.0, 0.0, 1.0, 0.0, 0.0, 0.0, 0.367115, 0.0, 1.0, 1.0, 0.0, 0.0, 1.0, 0.0],\n",
      "Optimal objective: 2056.407855630069\n",
      "Chance of feasibility.: 96.26) %\n"
     ]
    }
   ],
   "source": [
    "using Ipopt\n",
    "\n",
    "## TODO: Write here your student number as a string, for example, student_number = \"112233\"\n",
    "student_number = 452056  #write your code here\n",
    "\n",
    "# defining it for the robust formulation\n",
    "P = 0.1*a\n",
    "Gamma = 9\n",
    "\n",
    "## TODO: Complete the code for the function that creates the problem instance, optimise it and \n",
    "## returns optimal selection of the items and the objective function value\n",
    "function solve_robust_model(number_of_items, c, a, P, Gamma)\n",
    "    \n",
    "    #Creating the problem instance\n",
    "    robust_model = Model(with_optimizer(Ipopt.Optimizer, print_level=0))\n",
    "\n",
    "    # TODO: Declaring our x variables\n",
    "    @variable(robust_model, 0 <= x[1:number_of_items] <=1)\n",
    "\n",
    "    # TODO: Including OF\n",
    "    @objective(robust_model, Max, sum(c .* x))\n",
    "\n",
    "    # TODO: Including constraint\n",
    "    @NLconstraint(robust_model, \n",
    "        sum(a[j] * x[j] for j in 1:number_of_items) + \n",
    "        Gamma * sum(((P[j] * x[j])^2 for j in 1:number_of_items))^(1/2) <= K)\n",
    "\n",
    "    #Solve the model\n",
    "    optimize!(robust_model)\n",
    "    \n",
    "    return value.(x), objective_value(robust_model)\n",
    "end\n",
    "\n",
    "## TODO: complete the code for the function that generates simulations and returns  \n",
    "##       feasibility probability estimates \n",
    "\n",
    "function feasibility_estimate(number_of_simulations, solution)\n",
    "    Random.seed!(0)\n",
    "    results_of_simulations = []\n",
    "\n",
    "    for s in 1:number_of_simulations\n",
    "        ## sampling 10000 elements for the current simulation\n",
    "        a_simulated = [rand(Normal(a[j], 0.5*a[j]),1)[1] for j in 1:length(a)] \n",
    "        \n",
    "        observed_total_weight = sum(a_simulated .* solution) #write your code here)\n",
    "        \n",
    "        #writing 1 to the resulting array if the solution is feasible and 0 if not  \n",
    "        append!(results_of_simulations, (observed_total_weight <= K) ? 1 : 0) \n",
    "    end\n",
    "    return sum(results_of_simulations)*100/number_of_simulations\n",
    "end   \n",
    "\n",
    "## TODO: Write your student number after the letter 'f', so the name of the function \n",
    "##       will look like, for example, function f112233(number_of_items, c, a, P, Gamma, number_of_simulations)        \n",
    "\n",
    "function f452056(number_of_items, c, a, P, Gamma, number_of_simulations)# write your code here\n",
    "    \n",
    "    robust_optimisation_results = solve_robust_model(number_of_items, c, a, P, Gamma)\n",
    "    \n",
    "    ## Printing out the solution for current model\n",
    "    print(\"Optimal selection: $(robust_optimisation_results[1]),\\nOptimal objective: $(robust_optimisation_results[2])\\n\")\n",
    "    \n",
    "    feasibility = feasibility_estimate(number_of_simulations, robust_optimisation_results[1])\n",
    "    \n",
    "    ## Printing out the feasibility estimation the current model\n",
    "    print(\"Chance of feasibility.: $(feasibility)) %\\n\")\n",
    "    \n",
    "    return robust_optimisation_results, feasibility\n",
    "end\n",
    "\n",
    "#Verification of your code\n",
    "           \n",
    "## TODO: Write your student number after the letter 'f', so the call of the function \n",
    "##       will look like, for example, f112233(number_of_items, c, a, P, Gamma, number_of_simulations)\n",
    "\n",
    "f452056(number_of_items, c, a, P, Gamma, number_of_simulations);  #write your code here\n",
    "            \n",
    "#For P = 0.1a and Gamma = 9 the results should be the following\n",
    "#Optimal selection: [1.0, 0.0, 1.0, 0.0, 0.0, 0.0731138, 0.555431, 0.0, 0.0, 0.0, 0.0, 0.0, 0.0, 0.0, 0.0, 0.0, 0.0, 0.421737, 1.0, 1.0, 1.0, 0.0, 0.0, 1.0, 1.0, 0.267819, 1.0, 1.0, 1.0, 0.0, 0.0, 0.0, 1.0, 0.0, 0.0, 0.0, 0.0, 0.0, 1.0, 0.0, 0.0, 0.0, 0.367115, 0.0, 1.0, 1.0, 0.0, 0.0, 1.0, 0.0],\n",
    "#Optimal objective: 2056.407855630069\n",
    "#Chance of feasibility:  96.26% "
   ]
  },
  {
   "cell_type": "markdown",
   "metadata": {},
   "source": [
    "## (c)"
   ]
  },
  {
   "cell_type": "markdown",
   "metadata": {},
   "source": [
    "Let's do a similar experiment, but now using different values of $\\Gamma$ to see what happens as we increase it. \n"
   ]
  },
  {
   "cell_type": "markdown",
   "metadata": {},
   "source": [
    "$\\Gamma = 0$"
   ]
  },
  {
   "cell_type": "code",
   "execution_count": 11,
   "metadata": {},
   "outputs": [
    {
     "name": "stdout",
     "output_type": "stream",
     "text": [
      "Optimal selection: [1.0, 0.0, 1.0, 0.0, 0.0, 0.0, 1.0, 0.0, 0.0, 0.0, 0.0, 0.0, 0.0, 0.0, 0.0, 0.0, 0.0, 1.0, 1.0, 1.0, 1.0, 0.0, 0.0, 1.0, 1.0, 0.962714, 1.0, 1.0, 1.0, 0.0, 0.0, 0.0, 1.0, 0.0, 0.0, 0.0, 0.0, 0.0, 1.0, 0.0, 0.0, 0.0, 0.0, 0.0, 1.0, 1.0, 0.0, 0.0, 1.0, 0.0],\n",
      "Optimal objective: 2326.842566694773\n",
      "Chance of feasibility.: 49.45) %\n"
     ]
    }
   ],
   "source": [
    "f452056(number_of_items, c, a, P, 0, number_of_simulations);"
   ]
  },
  {
   "cell_type": "markdown",
   "metadata": {},
   "source": [
    "$\\Gamma = 1$"
   ]
  },
  {
   "cell_type": "code",
   "execution_count": 12,
   "metadata": {},
   "outputs": [
    {
     "name": "stdout",
     "output_type": "stream",
     "text": [
      "Optimal selection: [1.0, 0.0, 1.0, 0.0, 0.0, 0.0, 1.0, 0.0, 0.0, 0.0, 0.0, 0.0, 0.0, 0.0, 0.0, 0.0, 0.0, 1.0, 1.0, 1.0, 1.0, 0.0, 0.0, 1.0, 1.0, 0.773484, 1.0, 1.0, 1.0, 0.0, 0.0, 0.0, 1.0, 0.0, 0.0, 0.0, 0.0, 0.0, 1.0, 0.0, 0.0, 0.0, 0.0, 0.0, 1.0, 1.0, 0.0, 0.0, 1.0, 0.0],\n",
      "Optimal objective: 2289.734744994186\n",
      "Chance of feasibility.: 57.34) %\n"
     ]
    }
   ],
   "source": [
    "f452056(number_of_items, c, a, P, 1, number_of_simulations);"
   ]
  },
  {
   "cell_type": "markdown",
   "metadata": {},
   "source": [
    "As we increase the value of $\\Gamma$ from $0$ to $1$, the optimal objective decreases and chance of feasibility, that is, robustness, increases."
   ]
  },
  {
   "cell_type": "markdown",
   "metadata": {},
   "source": [
    "The increase in value of $\\Gamma$ means that when more items $x_j$ are included the estimated maximum total shipment weight will increase more, filling the capacity $K$ faster, and therefore less items will be included. "
   ]
  },
  {
   "cell_type": "markdown",
   "metadata": {},
   "source": [
    "## (d)"
   ]
  },
  {
   "cell_type": "code",
   "execution_count": 4,
   "metadata": {},
   "outputs": [
    {
     "name": "stderr",
     "output_type": "stream",
     "text": [
      "┌ Info: Precompiling Plots [91a5bcdd-55d7-5caf-9e0b-520d859cae80]\n",
      "└ @ Base loading.jl:1186\n"
     ]
    },
    {
     "data": {
      "image/svg+xml": [
       "<?xml version=\"1.0\" encoding=\"utf-8\"?>\n",
       "<svg xmlns=\"http://www.w3.org/2000/svg\" xmlns:xlink=\"http://www.w3.org/1999/xlink\" width=\"600\" height=\"400\" viewBox=\"0 0 2400 1600\">\n",
       "<defs>\n",
       "  <clipPath id=\"clip2700\">\n",
       "    <rect x=\"0\" y=\"0\" width=\"2400\" height=\"1600\"/>\n",
       "  </clipPath>\n",
       "</defs>\n",
       "<polygon clip-path=\"url(#clip2700)\" points=\"\n",
       "0,1600 2400,1600 2400,0 0,0 \n",
       "  \" fill=\"#ffffff\" fill-rule=\"evenodd\" fill-opacity=\"1\"/>\n",
       "<defs>\n",
       "  <clipPath id=\"clip2701\">\n",
       "    <rect x=\"480\" y=\"0\" width=\"1681\" height=\"1600\"/>\n",
       "  </clipPath>\n",
       "</defs>\n",
       "<polygon clip-path=\"url(#clip2700)\" points=\"\n",
       "255.898,625.619 2352.76,625.619 2352.76,47.2441 255.898,47.2441 \n",
       "  \" fill=\"#ffffff\" fill-rule=\"evenodd\" fill-opacity=\"1\"/>\n",
       "<defs>\n",
       "  <clipPath id=\"clip2702\">\n",
       "    <rect x=\"255\" y=\"47\" width=\"2098\" height=\"579\"/>\n",
       "  </clipPath>\n",
       "</defs>\n",
       "<polyline clip-path=\"url(#clip2702)\" style=\"stroke:#000000; stroke-width:2; stroke-opacity:0.1; fill:none\" points=\"\n",
       "  315.243,625.619 315.243,47.2441 \n",
       "  \"/>\n",
       "<polyline clip-path=\"url(#clip2702)\" style=\"stroke:#000000; stroke-width:2; stroke-opacity:0.1; fill:none\" points=\"\n",
       "  974.632,625.619 974.632,47.2441 \n",
       "  \"/>\n",
       "<polyline clip-path=\"url(#clip2702)\" style=\"stroke:#000000; stroke-width:2; stroke-opacity:0.1; fill:none\" points=\"\n",
       "  1634.02,625.619 1634.02,47.2441 \n",
       "  \"/>\n",
       "<polyline clip-path=\"url(#clip2702)\" style=\"stroke:#000000; stroke-width:2; stroke-opacity:0.1; fill:none\" points=\"\n",
       "  2293.41,625.619 2293.41,47.2441 \n",
       "  \"/>\n",
       "<polyline clip-path=\"url(#clip2702)\" style=\"stroke:#000000; stroke-width:2; stroke-opacity:0.1; fill:none\" points=\"\n",
       "  255.898,603.296 2352.76,603.296 \n",
       "  \"/>\n",
       "<polyline clip-path=\"url(#clip2702)\" style=\"stroke:#000000; stroke-width:2; stroke-opacity:0.1; fill:none\" points=\"\n",
       "  255.898,495.057 2352.76,495.057 \n",
       "  \"/>\n",
       "<polyline clip-path=\"url(#clip2702)\" style=\"stroke:#000000; stroke-width:2; stroke-opacity:0.1; fill:none\" points=\"\n",
       "  255.898,386.817 2352.76,386.817 \n",
       "  \"/>\n",
       "<polyline clip-path=\"url(#clip2702)\" style=\"stroke:#000000; stroke-width:2; stroke-opacity:0.1; fill:none\" points=\"\n",
       "  255.898,278.577 2352.76,278.577 \n",
       "  \"/>\n",
       "<polyline clip-path=\"url(#clip2702)\" style=\"stroke:#000000; stroke-width:2; stroke-opacity:0.1; fill:none\" points=\"\n",
       "  255.898,170.338 2352.76,170.338 \n",
       "  \"/>\n",
       "<polyline clip-path=\"url(#clip2702)\" style=\"stroke:#000000; stroke-width:2; stroke-opacity:0.1; fill:none\" points=\"\n",
       "  255.898,62.0978 2352.76,62.0978 \n",
       "  \"/>\n",
       "<polyline clip-path=\"url(#clip2700)\" style=\"stroke:#000000; stroke-width:4; stroke-opacity:1; fill:none\" points=\"\n",
       "  255.898,625.619 2352.76,625.619 \n",
       "  \"/>\n",
       "<polyline clip-path=\"url(#clip2700)\" style=\"stroke:#000000; stroke-width:4; stroke-opacity:1; fill:none\" points=\"\n",
       "  255.898,625.619 255.898,47.2441 \n",
       "  \"/>\n",
       "<polyline clip-path=\"url(#clip2700)\" style=\"stroke:#000000; stroke-width:4; stroke-opacity:1; fill:none\" points=\"\n",
       "  315.243,625.619 315.243,616.943 \n",
       "  \"/>\n",
       "<polyline clip-path=\"url(#clip2700)\" style=\"stroke:#000000; stroke-width:4; stroke-opacity:1; fill:none\" points=\"\n",
       "  974.632,625.619 974.632,616.943 \n",
       "  \"/>\n",
       "<polyline clip-path=\"url(#clip2700)\" style=\"stroke:#000000; stroke-width:4; stroke-opacity:1; fill:none\" points=\"\n",
       "  1634.02,625.619 1634.02,616.943 \n",
       "  \"/>\n",
       "<polyline clip-path=\"url(#clip2700)\" style=\"stroke:#000000; stroke-width:4; stroke-opacity:1; fill:none\" points=\"\n",
       "  2293.41,625.619 2293.41,616.943 \n",
       "  \"/>\n",
       "<polyline clip-path=\"url(#clip2700)\" style=\"stroke:#000000; stroke-width:4; stroke-opacity:1; fill:none\" points=\"\n",
       "  255.898,603.296 287.35,603.296 \n",
       "  \"/>\n",
       "<polyline clip-path=\"url(#clip2700)\" style=\"stroke:#000000; stroke-width:4; stroke-opacity:1; fill:none\" points=\"\n",
       "  255.898,495.057 287.35,495.057 \n",
       "  \"/>\n",
       "<polyline clip-path=\"url(#clip2700)\" style=\"stroke:#000000; stroke-width:4; stroke-opacity:1; fill:none\" points=\"\n",
       "  255.898,386.817 287.35,386.817 \n",
       "  \"/>\n",
       "<polyline clip-path=\"url(#clip2700)\" style=\"stroke:#000000; stroke-width:4; stroke-opacity:1; fill:none\" points=\"\n",
       "  255.898,278.577 287.35,278.577 \n",
       "  \"/>\n",
       "<polyline clip-path=\"url(#clip2700)\" style=\"stroke:#000000; stroke-width:4; stroke-opacity:1; fill:none\" points=\"\n",
       "  255.898,170.338 287.35,170.338 \n",
       "  \"/>\n",
       "<polyline clip-path=\"url(#clip2700)\" style=\"stroke:#000000; stroke-width:4; stroke-opacity:1; fill:none\" points=\"\n",
       "  255.898,62.0978 287.35,62.0978 \n",
       "  \"/>\n",
       "<g clip-path=\"url(#clip2700)\">\n",
       "<text style=\"fill:#000000; fill-opacity:1; font-family:Arial,Helvetica Neue,Helvetica,sans-serif; font-size:48px; text-anchor:middle;\" transform=\"rotate(0, 315.243, 679.619)\" x=\"315.243\" y=\"679.619\">0</text>\n",
       "</g>\n",
       "<g clip-path=\"url(#clip2700)\">\n",
       "<text style=\"fill:#000000; fill-opacity:1; font-family:Arial,Helvetica Neue,Helvetica,sans-serif; font-size:48px; text-anchor:middle;\" transform=\"rotate(0, 974.632, 679.619)\" x=\"974.632\" y=\"679.619\">5</text>\n",
       "</g>\n",
       "<g clip-path=\"url(#clip2700)\">\n",
       "<text style=\"fill:#000000; fill-opacity:1; font-family:Arial,Helvetica Neue,Helvetica,sans-serif; font-size:48px; text-anchor:middle;\" transform=\"rotate(0, 1634.02, 679.619)\" x=\"1634.02\" y=\"679.619\">10</text>\n",
       "</g>\n",
       "<g clip-path=\"url(#clip2700)\">\n",
       "<text style=\"fill:#000000; fill-opacity:1; font-family:Arial,Helvetica Neue,Helvetica,sans-serif; font-size:48px; text-anchor:middle;\" transform=\"rotate(0, 2293.41, 679.619)\" x=\"2293.41\" y=\"679.619\">15</text>\n",
       "</g>\n",
       "<g clip-path=\"url(#clip2700)\">\n",
       "<text style=\"fill:#000000; fill-opacity:1; font-family:Arial,Helvetica Neue,Helvetica,sans-serif; font-size:48px; text-anchor:end;\" transform=\"rotate(0, 231.898, 620.796)\" x=\"231.898\" y=\"620.796\">50</text>\n",
       "</g>\n",
       "<g clip-path=\"url(#clip2700)\">\n",
       "<text style=\"fill:#000000; fill-opacity:1; font-family:Arial,Helvetica Neue,Helvetica,sans-serif; font-size:48px; text-anchor:end;\" transform=\"rotate(0, 231.898, 512.557)\" x=\"231.898\" y=\"512.557\">60</text>\n",
       "</g>\n",
       "<g clip-path=\"url(#clip2700)\">\n",
       "<text style=\"fill:#000000; fill-opacity:1; font-family:Arial,Helvetica Neue,Helvetica,sans-serif; font-size:48px; text-anchor:end;\" transform=\"rotate(0, 231.898, 404.317)\" x=\"231.898\" y=\"404.317\">70</text>\n",
       "</g>\n",
       "<g clip-path=\"url(#clip2700)\">\n",
       "<text style=\"fill:#000000; fill-opacity:1; font-family:Arial,Helvetica Neue,Helvetica,sans-serif; font-size:48px; text-anchor:end;\" transform=\"rotate(0, 231.898, 296.077)\" x=\"231.898\" y=\"296.077\">80</text>\n",
       "</g>\n",
       "<g clip-path=\"url(#clip2700)\">\n",
       "<text style=\"fill:#000000; fill-opacity:1; font-family:Arial,Helvetica Neue,Helvetica,sans-serif; font-size:48px; text-anchor:end;\" transform=\"rotate(0, 231.898, 187.838)\" x=\"231.898\" y=\"187.838\">90</text>\n",
       "</g>\n",
       "<g clip-path=\"url(#clip2700)\">\n",
       "<text style=\"fill:#000000; fill-opacity:1; font-family:Arial,Helvetica Neue,Helvetica,sans-serif; font-size:48px; text-anchor:end;\" transform=\"rotate(0, 231.898, 79.5978)\" x=\"231.898\" y=\"79.5978\">100</text>\n",
       "</g>\n",
       "<g clip-path=\"url(#clip2700)\">\n",
       "<text style=\"fill:#000000; fill-opacity:1; font-family:Arial,Helvetica Neue,Helvetica,sans-serif; font-size:66px; text-anchor:middle;\" transform=\"rotate(0, 1304.33, 759.48)\" x=\"1304.33\" y=\"759.48\">Gamma</text>\n",
       "</g>\n",
       "<g clip-path=\"url(#clip2700)\">\n",
       "<text style=\"fill:#000000; fill-opacity:1; font-family:Arial,Helvetica Neue,Helvetica,sans-serif; font-size:66px; text-anchor:middle;\" transform=\"rotate(-90, 116.048, 336.431)\" x=\"116.048\" y=\"336.431\">feas. prob.</text>\n",
       "</g>\n",
       "<polyline clip-path=\"url(#clip2702)\" style=\"stroke:#009af9; stroke-width:4; stroke-opacity:1; fill:none\" points=\"\n",
       "  315.243,609.25 447.121,523.848 578.998,442.56 710.876,368.524 842.754,297.086 974.632,239.719 1106.51,190.362 1238.39,150.638 1370.27,121.63 1502.14,102.579 \n",
       "  1634.02,88.6166 1765.9,77.9008 1897.78,70.5405 2029.66,67.4016 2161.53,64.6956 2293.41,63.6132 \n",
       "  \"/>\n",
       "<polygon clip-path=\"url(#clip2700)\" points=\"\n",
       "255.898,1425.62 2352.76,1425.62 2352.76,847.244 255.898,847.244 \n",
       "  \" fill=\"#ffffff\" fill-rule=\"evenodd\" fill-opacity=\"1\"/>\n",
       "<defs>\n",
       "  <clipPath id=\"clip2703\">\n",
       "    <rect x=\"255\" y=\"847\" width=\"2098\" height=\"579\"/>\n",
       "  </clipPath>\n",
       "</defs>\n",
       "<polyline clip-path=\"url(#clip2703)\" style=\"stroke:#000000; stroke-width:2; stroke-opacity:0.1; fill:none\" points=\"\n",
       "  315.243,1425.62 315.243,847.244 \n",
       "  \"/>\n",
       "<polyline clip-path=\"url(#clip2703)\" style=\"stroke:#000000; stroke-width:2; stroke-opacity:0.1; fill:none\" points=\"\n",
       "  974.632,1425.62 974.632,847.244 \n",
       "  \"/>\n",
       "<polyline clip-path=\"url(#clip2703)\" style=\"stroke:#000000; stroke-width:2; stroke-opacity:0.1; fill:none\" points=\"\n",
       "  1634.02,1425.62 1634.02,847.244 \n",
       "  \"/>\n",
       "<polyline clip-path=\"url(#clip2703)\" style=\"stroke:#000000; stroke-width:2; stroke-opacity:0.1; fill:none\" points=\"\n",
       "  2293.41,1425.62 2293.41,847.244 \n",
       "  \"/>\n",
       "<polyline clip-path=\"url(#clip2703)\" style=\"stroke:#000000; stroke-width:2; stroke-opacity:0.1; fill:none\" points=\"\n",
       "  255.898,1296.94 2352.76,1296.94 \n",
       "  \"/>\n",
       "<polyline clip-path=\"url(#clip2703)\" style=\"stroke:#000000; stroke-width:2; stroke-opacity:0.1; fill:none\" points=\"\n",
       "  255.898,1164.36 2352.76,1164.36 \n",
       "  \"/>\n",
       "<polyline clip-path=\"url(#clip2703)\" style=\"stroke:#000000; stroke-width:2; stroke-opacity:0.1; fill:none\" points=\"\n",
       "  255.898,1031.78 2352.76,1031.78 \n",
       "  \"/>\n",
       "<polyline clip-path=\"url(#clip2703)\" style=\"stroke:#000000; stroke-width:2; stroke-opacity:0.1; fill:none\" points=\"\n",
       "  255.898,899.201 2352.76,899.201 \n",
       "  \"/>\n",
       "<polyline clip-path=\"url(#clip2700)\" style=\"stroke:#000000; stroke-width:4; stroke-opacity:1; fill:none\" points=\"\n",
       "  255.898,1425.62 2352.76,1425.62 \n",
       "  \"/>\n",
       "<polyline clip-path=\"url(#clip2700)\" style=\"stroke:#000000; stroke-width:4; stroke-opacity:1; fill:none\" points=\"\n",
       "  255.898,1425.62 255.898,847.244 \n",
       "  \"/>\n",
       "<polyline clip-path=\"url(#clip2700)\" style=\"stroke:#000000; stroke-width:4; stroke-opacity:1; fill:none\" points=\"\n",
       "  315.243,1425.62 315.243,1416.94 \n",
       "  \"/>\n",
       "<polyline clip-path=\"url(#clip2700)\" style=\"stroke:#000000; stroke-width:4; stroke-opacity:1; fill:none\" points=\"\n",
       "  974.632,1425.62 974.632,1416.94 \n",
       "  \"/>\n",
       "<polyline clip-path=\"url(#clip2700)\" style=\"stroke:#000000; stroke-width:4; stroke-opacity:1; fill:none\" points=\"\n",
       "  1634.02,1425.62 1634.02,1416.94 \n",
       "  \"/>\n",
       "<polyline clip-path=\"url(#clip2700)\" style=\"stroke:#000000; stroke-width:4; stroke-opacity:1; fill:none\" points=\"\n",
       "  2293.41,1425.62 2293.41,1416.94 \n",
       "  \"/>\n",
       "<polyline clip-path=\"url(#clip2700)\" style=\"stroke:#000000; stroke-width:4; stroke-opacity:1; fill:none\" points=\"\n",
       "  255.898,1296.94 287.35,1296.94 \n",
       "  \"/>\n",
       "<polyline clip-path=\"url(#clip2700)\" style=\"stroke:#000000; stroke-width:4; stroke-opacity:1; fill:none\" points=\"\n",
       "  255.898,1164.36 287.35,1164.36 \n",
       "  \"/>\n",
       "<polyline clip-path=\"url(#clip2700)\" style=\"stroke:#000000; stroke-width:4; stroke-opacity:1; fill:none\" points=\"\n",
       "  255.898,1031.78 287.35,1031.78 \n",
       "  \"/>\n",
       "<polyline clip-path=\"url(#clip2700)\" style=\"stroke:#000000; stroke-width:4; stroke-opacity:1; fill:none\" points=\"\n",
       "  255.898,899.201 287.35,899.201 \n",
       "  \"/>\n",
       "<g clip-path=\"url(#clip2700)\">\n",
       "<text style=\"fill:#000000; fill-opacity:1; font-family:Arial,Helvetica Neue,Helvetica,sans-serif; font-size:48px; text-anchor:middle;\" transform=\"rotate(0, 315.243, 1479.62)\" x=\"315.243\" y=\"1479.62\">0</text>\n",
       "</g>\n",
       "<g clip-path=\"url(#clip2700)\">\n",
       "<text style=\"fill:#000000; fill-opacity:1; font-family:Arial,Helvetica Neue,Helvetica,sans-serif; font-size:48px; text-anchor:middle;\" transform=\"rotate(0, 974.632, 1479.62)\" x=\"974.632\" y=\"1479.62\">5</text>\n",
       "</g>\n",
       "<g clip-path=\"url(#clip2700)\">\n",
       "<text style=\"fill:#000000; fill-opacity:1; font-family:Arial,Helvetica Neue,Helvetica,sans-serif; font-size:48px; text-anchor:middle;\" transform=\"rotate(0, 1634.02, 1479.62)\" x=\"1634.02\" y=\"1479.62\">10</text>\n",
       "</g>\n",
       "<g clip-path=\"url(#clip2700)\">\n",
       "<text style=\"fill:#000000; fill-opacity:1; font-family:Arial,Helvetica Neue,Helvetica,sans-serif; font-size:48px; text-anchor:middle;\" transform=\"rotate(0, 2293.41, 1479.62)\" x=\"2293.41\" y=\"1479.62\">15</text>\n",
       "</g>\n",
       "<g clip-path=\"url(#clip2700)\">\n",
       "<text style=\"fill:#000000; fill-opacity:1; font-family:Arial,Helvetica Neue,Helvetica,sans-serif; font-size:48px; text-anchor:end;\" transform=\"rotate(0, 231.898, 1314.44)\" x=\"231.898\" y=\"1314.44\">2000</text>\n",
       "</g>\n",
       "<g clip-path=\"url(#clip2700)\">\n",
       "<text style=\"fill:#000000; fill-opacity:1; font-family:Arial,Helvetica Neue,Helvetica,sans-serif; font-size:48px; text-anchor:end;\" transform=\"rotate(0, 231.898, 1181.86)\" x=\"231.898\" y=\"1181.86\">2100</text>\n",
       "</g>\n",
       "<g clip-path=\"url(#clip2700)\">\n",
       "<text style=\"fill:#000000; fill-opacity:1; font-family:Arial,Helvetica Neue,Helvetica,sans-serif; font-size:48px; text-anchor:end;\" transform=\"rotate(0, 231.898, 1049.28)\" x=\"231.898\" y=\"1049.28\">2200</text>\n",
       "</g>\n",
       "<g clip-path=\"url(#clip2700)\">\n",
       "<text style=\"fill:#000000; fill-opacity:1; font-family:Arial,Helvetica Neue,Helvetica,sans-serif; font-size:48px; text-anchor:end;\" transform=\"rotate(0, 231.898, 916.701)\" x=\"231.898\" y=\"916.701\">2300</text>\n",
       "</g>\n",
       "<g clip-path=\"url(#clip2700)\">\n",
       "<text style=\"fill:#000000; fill-opacity:1; font-family:Arial,Helvetica Neue,Helvetica,sans-serif; font-size:66px; text-anchor:middle;\" transform=\"rotate(0, 1304.33, 1559.48)\" x=\"1304.33\" y=\"1559.48\">Gamma</text>\n",
       "</g>\n",
       "<g clip-path=\"url(#clip2700)\">\n",
       "<text style=\"fill:#000000; fill-opacity:1; font-family:Arial,Helvetica Neue,Helvetica,sans-serif; font-size:66px; text-anchor:middle;\" transform=\"rotate(-90, 89.2861, 1136.43)\" x=\"89.2861\" y=\"1136.43\">total value</text>\n",
       "</g>\n",
       "<polyline clip-path=\"url(#clip2703)\" style=\"stroke:#ffa500; stroke-width:4; stroke-opacity:1; fill:none\" points=\"\n",
       "  315.243,863.613 447.121,912.81 578.998,958.631 710.876,1002.26 842.754,1043.52 974.632,1082.53 1106.51,1119.45 1238.39,1154.79 1370.27,1188.93 1502.14,1222.15 \n",
       "  1634.02,1254.68 1765.9,1286.71 1897.78,1318.39 2029.66,1349.39 2161.53,1379.62 2293.41,1409.25 \n",
       "  \"/>\n",
       "</svg>\n"
      ]
     },
     "execution_count": 4,
     "metadata": {},
     "output_type": "execute_result"
    }
   ],
   "source": [
    "using Plots\n",
    "## generate a range of Gammas to try\n",
    "Gamma_max = 15 \n",
    "Gammas = collect(0:Gamma_max)\n",
    "\n",
    "## storing the results of each run\n",
    "feas = Array{Float64}(undef, 0)\n",
    "total_value = Array{Float64}(undef, 0)\n",
    "\n",
    "## for each Gamma, solve te model and store the results\n",
    "for Gamma in Gammas\n",
    "    robust_optimisation_results = solve_robust_model(number_of_items, c, a, P, Gamma) \n",
    "    append!(total_value, robust_optimisation_results[2])\n",
    "    append!(feas, feasibility_estimate(number_of_simulations, robust_optimisation_results[1]))\n",
    "end\n",
    "\n",
    "## plotting the results from simulation\n",
    "p1 = plot(Gammas, feas, xlabel = \"Gamma\", ylabel = \"feas. prob.\", legend=false)\n",
    "p2 = plot(Gammas, total_value, xlabel = \"Gamma\", ylabel = \"total value\", legend=false, color=:orange)\n",
    "plot(p1,p2, layout = (2,1))"
   ]
  },
  {
   "cell_type": "markdown",
   "metadata": {},
   "source": [
    "As we increase the value of $\\Gamma$ the feasibility probability increases but the total value decreases."
   ]
  },
  {
   "cell_type": "markdown",
   "metadata": {},
   "source": [
    "It is impossible to find value for $\\Gamma$ such that the probability is $100\\%$ because normal distribution can sample values upto infinity."
   ]
  }
 ],
 "metadata": {
  "@webio": {
   "lastCommId": null,
   "lastKernelId": null
  },
  "kernelspec": {
   "display_name": "Julia 1.1.1",
   "language": "julia",
   "name": "julia-1.1"
  },
  "language_info": {
   "file_extension": ".jl",
   "mimetype": "application/julia",
   "name": "julia",
   "version": "1.1.1"
  }
 },
 "nbformat": 4,
 "nbformat_minor": 4
}
